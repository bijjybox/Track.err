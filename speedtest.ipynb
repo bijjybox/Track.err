{
 "cells": [
  {
   "cell_type": "code",
   "execution_count": 1,
   "metadata": {},
   "outputs": [],
   "source": [
    "#define wt_N = 1100000\n",
    "#define speed_km_h = 80\n",
    "#define acc_grav = 9.8\n",
    "#define mass_kg = 1100000/9.8"
   ]
  },
  {
   "cell_type": "code",
   "execution_count": null,
   "metadata": {},
   "outputs": [],
   "source": [
    "input weight_\n",
    "mass_ = weight_/9.8\n",
    "allowed_speed = 80*9.8*mass_/9.8\n",
    "input speed_actual\n",
    "\n",
    "if curve:\n",
    "    input"
   ]
  }
 ],
 "metadata": {
  "kernelspec": {
   "display_name": "Python 3",
   "language": "python",
   "name": "python3"
  },
  "language_info": {
   "codemirror_mode": {
    "name": "ipython",
    "version": 3
   },
   "file_extension": ".py",
   "mimetype": "text/x-python",
   "name": "python",
   "nbconvert_exporter": "python",
   "pygments_lexer": "ipython3",
   "version": "3.6.8"
  }
 },
 "nbformat": 4,
 "nbformat_minor": 2
}
